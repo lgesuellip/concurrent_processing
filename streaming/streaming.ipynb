{
 "cells": [
  {
   "cell_type": "code",
   "execution_count": 2,
   "metadata": {},
   "outputs": [],
   "source": [
    "inputs = [\n",
    "    {\"id\": 1, \"question\": \"What is the capital of France?\", \"synthetic_answer\": \"Lyon\"},\n",
    "    {\"id\": 2, \"question\": \"Who wrote 'To Kill a Mockingbird'?\", \"synthetic_answer\": \"Harper Lee\"},\n",
    "    {\"id\": 3, \"question\": \"What is the chemical symbol for gold?\", \"synthetic_answer\": \"Au\"},\n",
    "    {\"id\": 4, \"question\": \"In what year did World War II end?\", \"synthetic_answer\": \"1939\"},\n",
    "    {\"id\": 5, \"question\": \"What is the largest planet in our solar system?\", \"synthetic_answer\": \"Jupiter\"},\n",
    "    {\"id\": 6, \"question\": \"What is the capital of Argentina?\", \"synthetic_answer\": \"Buenos Aires\"}\n",
    "] "
   ]
  },
  {
   "cell_type": "code",
   "execution_count": 6,
   "metadata": {},
   "outputs": [],
   "source": [
    "\n",
    "def yield_inputs():\n",
    "    for item in inputs:\n",
    "        item[\"processed\"] = True\n",
    "        yield item\n",
    "\n",
    "def inputs_normal():\n",
    "    for item in inputs:\n",
    "        item[\"processed\"] = True\n",
    "    return inputs"
   ]
  },
  {
   "cell_type": "code",
   "execution_count": 4,
   "metadata": {},
   "outputs": [
    {
     "data": {
      "text/plain": [
       "{'id': 1,\n",
       " 'question': 'What is the capital of France?',\n",
       " 'synthetic_answer': 'Lyon',\n",
       " 'processed': True}"
      ]
     },
     "execution_count": 4,
     "metadata": {},
     "output_type": "execute_result"
    }
   ],
   "source": [
    "next(yield_inputs())"
   ]
  },
  {
   "cell_type": "code",
   "execution_count": 7,
   "metadata": {},
   "outputs": [
    {
     "data": {
      "text/plain": [
       "[{'id': 1,\n",
       "  'question': 'What is the capital of France?',\n",
       "  'synthetic_answer': 'Lyon',\n",
       "  'processed': True},\n",
       " {'id': 2,\n",
       "  'question': \"Who wrote 'To Kill a Mockingbird'?\",\n",
       "  'synthetic_answer': 'Harper Lee',\n",
       "  'processed': True},\n",
       " {'id': 3,\n",
       "  'question': 'What is the chemical symbol for gold?',\n",
       "  'synthetic_answer': 'Au',\n",
       "  'processed': True},\n",
       " {'id': 4,\n",
       "  'question': 'In what year did World War II end?',\n",
       "  'synthetic_answer': '1939',\n",
       "  'processed': True},\n",
       " {'id': 5,\n",
       "  'question': 'What is the largest planet in our solar system?',\n",
       "  'synthetic_answer': 'Jupiter',\n",
       "  'processed': True},\n",
       " {'id': 6,\n",
       "  'question': 'What is the capital of Argentina?',\n",
       "  'synthetic_answer': 'Buenos Aires',\n",
       "  'processed': True}]"
      ]
     },
     "execution_count": 7,
     "metadata": {},
     "output_type": "execute_result"
    }
   ],
   "source": [
    "inputs_normal()"
   ]
  }
 ],
 "metadata": {
  "kernelspec": {
   "display_name": ".venv",
   "language": "python",
   "name": "python3"
  },
  "language_info": {
   "codemirror_mode": {
    "name": "ipython",
    "version": 3
   },
   "file_extension": ".py",
   "mimetype": "text/x-python",
   "name": "python",
   "nbconvert_exporter": "python",
   "pygments_lexer": "ipython3",
   "version": "3.11.9"
  }
 },
 "nbformat": 4,
 "nbformat_minor": 2
}
