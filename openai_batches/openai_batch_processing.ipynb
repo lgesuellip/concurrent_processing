{
 "cells": [
  {
   "cell_type": "code",
   "execution_count": null,
   "metadata": {},
   "outputs": [],
   "source": [
    "!pip install openai python-dotenv jinja2"
   ]
  },
  {
   "cell_type": "markdown",
   "metadata": {},
   "source": [
    "# AI Answer Evaluation System"
   ]
  },
  {
   "cell_type": "markdown",
   "metadata": {},
   "source": [
    "## Task"
   ]
  },
  {
   "cell_type": "code",
   "execution_count": 1,
   "metadata": {},
   "outputs": [],
   "source": [
    "inputs = [\n",
    "    {\"id\": 1, \"question\": \"What is the capital of France?\", \"synthetic_answer\": \"Lyon\"},\n",
    "    {\"id\": 2, \"question\": \"Who wrote 'To Kill a Mockingbird'?\", \"synthetic_answer\": \"Harper Lee\"},\n",
    "    {\"id\": 3, \"question\": \"What is the chemical symbol for gold?\", \"synthetic_answer\": \"Au\"},\n",
    "    {\"id\": 4, \"question\": \"In what year did World War II end?\", \"synthetic_answer\": \"1939\"},\n",
    "    {\"id\": 5, \"question\": \"What is the largest planet in our solar system?\", \"synthetic_answer\": \"Jupiter\"},\n",
    "    {\"id\": 6, \"question\": \"What is the capital of Argentina?\", \"synthetic_answer\": \"Buenos Aires\"}\n",
    "]"
   ]
  },
  {
   "cell_type": "code",
   "execution_count": 2,
   "metadata": {},
   "outputs": [],
   "source": [
    "from jinja2 import Template\n",
    "prompt_template = Template(\"\"\"\n",
    "<TASK_DESCRIPTION>\n",
    "You are an AI assistant tasked with evaluating the quality of an answer to a given question.\n",
    "Please assess whether the provided answer is likely to be correct based on your knowledge.\n",
    "</TASK_DESCRIPTION>\n",
    "\n",
    "<OUTPUT_FORMAT>\n",
    "Respond with a JSON object containing the following fields:\n",
    "   - is_likely_correct: An integer (0 or 1) indicating whether the given answer is likely to be correct (1) or incorrect (0)\n",
    "   - explanation: A brief explanation of why you believe the answer is likely correct or incorrect\n",
    "</OUTPUT_FORMAT>\n",
    "\n",
    "<EXAMPLE_RESPONSE>\n",
    "Example response:\n",
    "{\n",
    "  \"is_likely_correct\": 1,\n",
    "  \"explanation\": \"The answer 'Paris' is likely correct for the question 'What is the capital of France?'. Paris is widely known as the capital city of France.\"\n",
    "}\n",
    "</EXAMPLE_RESPONSE>\n",
    "\"\"\")"
   ]
  },
  {
   "cell_type": "markdown",
   "metadata": {},
   "source": [
    "## Model"
   ]
  },
  {
   "cell_type": "code",
   "execution_count": 3,
   "metadata": {},
   "outputs": [],
   "source": [
    "from typing import Dict\n",
    "\n",
    "def inference(input: str, model: str = \"gpt-4o-mini\") -> Dict:\n",
    "    \n",
    "    messages = [\n",
    "        {\"role\": \"system\", \"content\": prompt_template.render()},\n",
    "        {\n",
    "            \"role\": \"user\",\n",
    "            \"content\": Template(\n",
    "                \"Given the question: {{ question }} and the answer: {{ answer }}. \"\n",
    "                \"Please assess if the answer is likely correct or not.\"\n",
    "            ).render(question=input[\"question\"], answer=input[\"synthetic_answer\"])\n",
    "        },\n",
    "    ]\n",
    "\n",
    "    return {\n",
    "        \"custom_id\": str(input['id']),\n",
    "        \"method\": \"POST\",\n",
    "        \"url\": \"/v1/chat/completions\",\n",
    "        \"body\": {\n",
    "            \"model\": model,\n",
    "            \"temperature\": 0,\n",
    "            \"max_tokens\": 350,\n",
    "            \"response_format\": { \n",
    "                \"type\": \"json_object\"\n",
    "            },            \n",
    "            \"messages\": messages,\n",
    "        }\n",
    "    }"
   ]
  },
  {
   "cell_type": "markdown",
   "metadata": {},
   "source": [
    "## Batch Processing"
   ]
  },
  {
   "cell_type": "code",
   "execution_count": 4,
   "metadata": {},
   "outputs": [],
   "source": [
    "from openai import OpenAI\n",
    "from dotenv import load_dotenv\n",
    "import os\n",
    "import json\n",
    "from typing import List"
   ]
  },
  {
   "cell_type": "code",
   "execution_count": 5,
   "metadata": {},
   "outputs": [],
   "source": [
    "load_dotenv()\n",
    "client = OpenAI()"
   ]
  },
  {
   "cell_type": "code",
   "execution_count": 6,
   "metadata": {},
   "outputs": [],
   "source": [
    "file_name = \"batch/batch.json\"\n",
    "save_file_name = \"results/batch_results.json\"\n"
   ]
  },
  {
   "cell_type": "markdown",
   "metadata": {},
   "source": [
    "### Batch Job Generation"
   ]
  },
  {
   "cell_type": "code",
   "execution_count": 7,
   "metadata": {},
   "outputs": [],
   "source": [
    "def generate_batch_job(file_name, tasks: List[Dict]):\n",
    "\n",
    "    # Create the directory if it doesn't exist\n",
    "    os.makedirs(os.path.dirname(file_name), exist_ok=True)\n",
    "    \n",
    "    with open(file_name, 'w') as file:\n",
    "        for obj in tasks:\n",
    "            file.write(json.dumps(obj) + '\\n')"
   ]
  },
  {
   "cell_type": "code",
   "execution_count": 8,
   "metadata": {},
   "outputs": [],
   "source": [
    "tasks = [] \n",
    "for task in inputs:\n",
    "    tasks.append(inference(task))\n",
    "\n",
    "generate_batch_job(file_name=file_name, tasks=tasks)"
   ]
  },
  {
   "cell_type": "markdown",
   "metadata": {},
   "source": [
    "### Batch Job Processing"
   ]
  },
  {
   "cell_type": "code",
   "execution_count": 9,
   "metadata": {},
   "outputs": [],
   "source": [
    "def process_batch_job(file_name):\n",
    "\n",
    "    batch_file = client.files.create(\n",
    "        file=open(file_name, \"rb\"),\n",
    "        purpose=\"batch\"\n",
    "    )\n",
    "\n",
    "    # Create batch job\n",
    "    batch_job = client.batches.create(\n",
    "        input_file_id=batch_file.id,\n",
    "        endpoint=\"/v1/chat/completions\",\n",
    "        completion_window=\"24h\"\n",
    "    )\n",
    "\n",
    "    return batch_job"
   ]
  },
  {
   "cell_type": "code",
   "execution_count": 10,
   "metadata": {},
   "outputs": [],
   "source": [
    "batch_job = process_batch_job(file_name=file_name)"
   ]
  },
  {
   "cell_type": "code",
   "execution_count": 13,
   "metadata": {},
   "outputs": [
    {
     "name": "stdout",
     "output_type": "stream",
     "text": [
      "Batch(id='batch_OZLaER8Cw7dZkxJFd9aK4vCP', completion_window='24h', created_at=1725894627, endpoint='/v1/chat/completions', input_file_id='file-iomSgsMNdvTYRpmXlXb10HTM', object='batch', status='completed', cancelled_at=None, cancelling_at=None, completed_at=1725894797, error_file_id=None, errors=None, expired_at=None, expires_at=1725981027, failed_at=None, finalizing_at=1725894796, in_progress_at=1725894628, metadata=None, output_file_id='file-BNTIZihYP4OYRNpBolGgNuAZ', request_counts=BatchRequestCounts(completed=6, failed=0, total=6))\n"
     ]
    }
   ],
   "source": [
    "# Retrieve batch job results\n",
    "print(client.batches.retrieve(batch_job.id))"
   ]
  },
  {
   "cell_type": "markdown",
   "metadata": {},
   "source": [
    "### Results"
   ]
  },
  {
   "cell_type": "code",
   "execution_count": 17,
   "metadata": {},
   "outputs": [],
   "source": [
    "\n",
    "def process_batch_results(batch_job_id, result_file_name):\n",
    "\n",
    "    result_file_id = client.batches.retrieve(batch_job_id).output_file_id\n",
    "    results = client.files.content(result_file_id).content\n",
    "    \n",
    "    # Create the directory if it doesn't exist\n",
    "    os.makedirs(os.path.dirname(result_file_name), exist_ok=True)\n",
    "\n",
    "    with open(result_file_name, 'wb') as file:\n",
    "        file.write(results)\n",
    "\n",
    "    return results"
   ]
  },
  {
   "cell_type": "code",
   "execution_count": 18,
   "metadata": {},
   "outputs": [],
   "source": [
    "processed_results = process_batch_results(batch_job.id, save_file_name)"
   ]
  },
  {
   "cell_type": "code",
   "execution_count": 27,
   "metadata": {},
   "outputs": [
    {
     "data": {
      "text/plain": [
       "b'{\"id\": \"batch_req_dDnuodATMArRumTsdtNdXuTU\", \"custom_id\": \"1\", \"response\": {\"status_code\": 200, \"request_id\": \"98cd86fe30f4f2da93eb69f7a3824edb\", \"body\": {\"id\": \"chatcmpl-A5aK53IBNQeQZhpu97EfqYRNMOnCO\", \"object\": \"chat.completion\", \"created\": 1725894629, \"model\": \"gpt-4o-mini-2024-07-18\", \"choices\": [{\"index\": 0, \"message\": {\"role\": \"assistant\", \"content\": \"{\\\\n  \\\\\"is_likely_correct\\\\\": 0,\\\\n  \\\\\"explanation\\\\\": \\\\\"The answer \\'Lyon\\' is incorrect for the question \\'What is the capital of France?\\'. The capital of France is Paris, not Lyon.\\\\\"\\\\n}\", \"refusal\": null}, \"logprobs\": null, \"finish_reason\": \"stop\"}], \"usage\": {\"prompt_tokens\": 216, \"completion_tokens\": 49, \"total_tokens\": 265}, \"system_fingerprint\": \"fp_483d39d857\"}}, \"error\": null}\\n{\"id\": \"batch_req_68pyo9gkfqEeMFMza6dQjdAw\", \"custom_id\": \"2\", \"response\": {\"status_code\": 200, \"request_id\": \"5631f1146e987ac0398ec0e1fb9e98ba\", \"body\": {\"id\": \"chatcmpl-A5aKDbgHVk194AFqVqCLOA5skIOKy\", \"object\": \"chat.completion\", \"created\": 1725894637, \"model\": \"gpt-4o-mini-2024-07-18\", \"choices\": [{\"index\": 0, \"message\": {\"role\": \"assistant\", \"content\": \"{\\\\n  \\\\\"is_likely_correct\\\\\": 1,\\\\n  \\\\\"explanation\\\\\": \\\\\"The answer \\'Harper Lee\\' is likely correct for the question \\'Who wrote \\'To Kill a Mockingbird\\'?\\'. Harper Lee is the author of this classic novel, which was published in 1960.\\\\\"\\\\n}\", \"refusal\": null}, \"logprobs\": null, \"finish_reason\": \"stop\"}], \"usage\": {\"prompt_tokens\": 220, \"completion_tokens\": 62, \"total_tokens\": 282}, \"system_fingerprint\": \"fp_483d39d857\"}}, \"error\": null}\\n{\"id\": \"batch_req_L52pMx0nOi1FrQ2KkCxd9DQE\", \"custom_id\": \"3\", \"response\": {\"status_code\": 200, \"request_id\": \"852b37e04625fff0af1c9d537441c739\", \"body\": {\"id\": \"chatcmpl-A5aK9Z0BDWrxyaK5K2IwESv0LNxz0\", \"object\": \"chat.completion\", \"created\": 1725894633, \"model\": \"gpt-4o-mini-2024-07-18\", \"choices\": [{\"index\": 0, \"message\": {\"role\": \"assistant\", \"content\": \"{\\\\n  \\\\\"is_likely_correct\\\\\": 1,\\\\n  \\\\\"explanation\\\\\": \\\\\"The answer \\'Au\\' is likely correct for the question \\'What is the chemical symbol for gold?\\'. \\'Au\\' is the internationally recognized chemical symbol for gold, derived from its Latin name \\'Aurum\\'.\\\\\"\\\\n}\", \"refusal\": null}, \"logprobs\": null, \"finish_reason\": \"stop\"}], \"usage\": {\"prompt_tokens\": 217, \"completion_tokens\": 62, \"total_tokens\": 279}, \"system_fingerprint\": \"fp_483d39d857\"}}, \"error\": null}\\n{\"id\": \"batch_req_UXhTli1XvM2FtRB2uNJfROrd\", \"custom_id\": \"4\", \"response\": {\"status_code\": 200, \"request_id\": \"a57f305e9724bc8584d0753f6daa9b95\", \"body\": {\"id\": \"chatcmpl-A5aKBmETBu3ezefAqAOe43QKsTeaZ\", \"object\": \"chat.completion\", \"created\": 1725894635, \"model\": \"gpt-4o-mini-2024-07-18\", \"choices\": [{\"index\": 0, \"message\": {\"role\": \"assistant\", \"content\": \"{\\\\n  \\\\\"is_likely_correct\\\\\": 0,\\\\n  \\\\\"explanation\\\\\": \\\\\"The answer \\'1939\\' is incorrect for the question \\'In what year did World War II end?\\'. World War II ended in 1945, not 1939.\\\\\"\\\\n}\", \"refusal\": null}, \"logprobs\": null, \"finish_reason\": \"stop\"}], \"usage\": {\"prompt_tokens\": 220, \"completion_tokens\": 55, \"total_tokens\": 275}, \"system_fingerprint\": \"fp_483d39d857\"}}, \"error\": null}\\n{\"id\": \"batch_req_KATVeY58agrQ31zgeYhNqDUz\", \"custom_id\": \"5\", \"response\": {\"status_code\": 200, \"request_id\": \"9cf6b75ee1de2875dcc898a74f8c9ae3\", \"body\": {\"id\": \"chatcmpl-A5aKFLMU7f3KMCGQ19lG3PtzsGvpI\", \"object\": \"chat.completion\", \"created\": 1725894639, \"model\": \"gpt-4o-mini-2024-07-18\", \"choices\": [{\"index\": 0, \"message\": {\"role\": \"assistant\", \"content\": \"{\\\\n  \\\\\"is_likely_correct\\\\\": 1,\\\\n  \\\\\"explanation\\\\\": \\\\\"The answer \\'Jupiter\\' is likely correct for the question \\'What is the largest planet in our solar system?\\'. Jupiter is widely recognized as the largest planet in our solar system, significantly larger than all the other planets.\\\\\"\\\\n}\", \"refusal\": null}, \"logprobs\": null, \"finish_reason\": \"stop\"}], \"usage\": {\"prompt_tokens\": 219, \"completion_tokens\": 64, \"total_tokens\": 283}, \"system_fingerprint\": \"fp_483d39d857\"}}, \"error\": null}\\n{\"id\": \"batch_req_bXQB0qOCgtjv63cHiSqBaJ3e\", \"custom_id\": \"6\", \"response\": {\"status_code\": 200, \"request_id\": \"398724697a2e4eadabb022eee7de2644\", \"body\": {\"id\": \"chatcmpl-A5aK58agTGyvxH4XlnJdm93CQzVYk\", \"object\": \"chat.completion\", \"created\": 1725894629, \"model\": \"gpt-4o-mini-2024-07-18\", \"choices\": [{\"index\": 0, \"message\": {\"role\": \"assistant\", \"content\": \"{\\\\n  \\\\\"is_likely_correct\\\\\": 1,\\\\n  \\\\\"explanation\\\\\": \\\\\"The answer \\'Buenos Aires\\' is likely correct for the question \\'What is the capital of Argentina?\\'. Buenos Aires is the capital city of Argentina and is well-known as such.\\\\\"\\\\n}\", \"refusal\": null}, \"logprobs\": null, \"finish_reason\": \"stop\"}], \"usage\": {\"prompt_tokens\": 217, \"completion_tokens\": 55, \"total_tokens\": 272}, \"system_fingerprint\": \"fp_483d39d857\"}}, \"error\": null}\\n'"
      ]
     },
     "execution_count": 27,
     "metadata": {},
     "output_type": "execute_result"
    }
   ],
   "source": [
    "processed_results"
   ]
  },
  {
   "cell_type": "code",
   "execution_count": 33,
   "metadata": {},
   "outputs": [
    {
     "name": "stdout",
     "output_type": "stream",
     "text": [
      "{'id': '1', 'result': '{\\n  \"is_likely_correct\": 0,\\n  \"explanation\": \"The answer \\'Lyon\\' is incorrect for the question \\'What is the capital of France?\\'. The capital of France is Paris, not Lyon.\"\\n}'}\n",
      "{'id': '2', 'result': '{\\n  \"is_likely_correct\": 1,\\n  \"explanation\": \"The answer \\'Harper Lee\\' is likely correct for the question \\'Who wrote \\'To Kill a Mockingbird\\'?\\'. Harper Lee is the author of this classic novel, which was published in 1960.\"\\n}'}\n",
      "{'id': '3', 'result': '{\\n  \"is_likely_correct\": 1,\\n  \"explanation\": \"The answer \\'Au\\' is likely correct for the question \\'What is the chemical symbol for gold?\\'. \\'Au\\' is the internationally recognized chemical symbol for gold, derived from its Latin name \\'Aurum\\'.\"\\n}'}\n",
      "{'id': '4', 'result': '{\\n  \"is_likely_correct\": 0,\\n  \"explanation\": \"The answer \\'1939\\' is incorrect for the question \\'In what year did World War II end?\\'. World War II ended in 1945, not 1939.\"\\n}'}\n",
      "{'id': '5', 'result': '{\\n  \"is_likely_correct\": 1,\\n  \"explanation\": \"The answer \\'Jupiter\\' is likely correct for the question \\'What is the largest planet in our solar system?\\'. Jupiter is widely recognized as the largest planet in our solar system, significantly larger than all the other planets.\"\\n}'}\n",
      "{'id': '6', 'result': '{\\n  \"is_likely_correct\": 1,\\n  \"explanation\": \"The answer \\'Buenos Aires\\' is likely correct for the question \\'What is the capital of Argentina?\\'. Buenos Aires is the capital city of Argentina and is well-known as such.\"\\n}'}\n"
     ]
    }
   ],
   "source": [
    "for line in processed_results.decode().splitlines():\n",
    "    parsed_line = json.loads(line)\n",
    "    print({\n",
    "        'id': parsed_line['custom_id'],\n",
    "        'result': parsed_line['response']['body']['choices'][0]['message']['content']\n",
    "    })\n"
   ]
  }
 ],
 "metadata": {
  "kernelspec": {
   "display_name": ".venv",
   "language": "python",
   "name": "python3"
  },
  "language_info": {
   "codemirror_mode": {
    "name": "ipython",
    "version": 3
   },
   "file_extension": ".py",
   "mimetype": "text/x-python",
   "name": "python",
   "nbconvert_exporter": "python",
   "pygments_lexer": "ipython3",
   "version": "3.11.9"
  }
 },
 "nbformat": 4,
 "nbformat_minor": 2
}
